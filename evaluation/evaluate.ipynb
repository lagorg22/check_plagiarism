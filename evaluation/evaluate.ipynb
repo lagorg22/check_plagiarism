{
 "cells": [
  {
   "cell_type": "code",
   "execution_count": null,
   "id": "b411de9e-1d74-40b6-b2eb-53b4609b6f8c",
   "metadata": {},
   "outputs": [],
   "source": []
  }
 ],
 "metadata": {
  "kernelspec": {
   "display_name": "",
   "name": ""
  },
  "language_info": {
   "name": ""
  }
 },
 "nbformat": 4,
 "nbformat_minor": 5
}
